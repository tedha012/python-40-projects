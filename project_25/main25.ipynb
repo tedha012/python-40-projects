{
 "cells": [
  {
   "cell_type": "code",
   "execution_count": 2,
   "metadata": {},
   "outputs": [],
   "source": [
    "import datetime"
   ]
  },
  {
   "cell_type": "code",
   "execution_count": 3,
   "metadata": {},
   "outputs": [
    {
     "name": "stdout",
     "output_type": "stream",
     "text": [
      "['2021-12-01', '2021-12-02']\n"
     ]
    }
   ],
   "source": [
    "def date_range(start, end):\n",
    "    start = datetime.datetime.strptime(start, \"%Y-%m-%d\")\n",
    "    start = start + datetime.timedelta(days=1)\n",
    "    end = datetime.datetime.strptime(end, \"%Y-%m-%d\")\n",
    "    end = end + datetime.timedelta(days=1) \n",
    "    dates = [(start + datetime.timedelta(days=i)).strftime(\"%Y-%m-%d\") for i in range((end-start).days+1)]\n",
    "    return dates\n",
    "\n",
    "dates = date_range(\"2021-11-30\", \"2021-12-01\")\n",
    "\n",
    "print(dates)\n"
   ]
  },
  {
   "cell_type": "code",
   "execution_count": null,
   "metadata": {},
   "outputs": [],
   "source": []
  }
 ],
 "metadata": {
  "kernelspec": {
   "display_name": "Python 3.10.8 64-bit",
   "language": "python",
   "name": "python3"
  },
  "language_info": {
   "codemirror_mode": {
    "name": "ipython",
    "version": 3
   },
   "file_extension": ".py",
   "mimetype": "text/x-python",
   "name": "python",
   "nbconvert_exporter": "python",
   "pygments_lexer": "ipython3",
   "version": "3.10.8"
  },
  "orig_nbformat": 4,
  "vscode": {
   "interpreter": {
    "hash": "fb4569285eef3a3450cb62085a5b1e0da4bce0af555edc33dcf29baf3acc1368"
   }
  }
 },
 "nbformat": 4,
 "nbformat_minor": 2
}
